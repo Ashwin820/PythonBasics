{
 "cells": [
  {
   "cell_type": "markdown",
   "metadata": {},
   "source": [
    "# Python Basics"
   ]
  },
  {
   "cell_type": "markdown",
   "metadata": {},
   "source": [
    "These assignments aim to get you acquainted with Python, which is an important requirement for all the research done at Solarillion Foundation. Apart from teaching you Python, these assignments also aim to make you a better programmer and cultivate better coding practices. \n",
    "\n",
    "Visit these links for more details: <br>\n",
    "PEP8 Practices: https://www.python.org/dev/peps/pep-0008/ <br>\n",
    "Check PEP8: http://pep8online.com <br>\n",
    "Python Reference: https://www.py4e.com/lessons <br>\n",
    "\n",
    "Each task in the assignment comprises of at least two cells. There are function definitions wherein you will name the function(s), and write code to solve the problem at hand. You will call the function(s) in the last cell of each task, and check your output.\n",
    "\n",
    "We encourage you to play around and learn as much as possible, and be as creative as you can get. More than anything, have fun doing these assignments. Enjoy!"
   ]
  },
  {
   "cell_type": "markdown",
   "metadata": {},
   "source": [
    "# Module 1\n",
    "Scope: Conditions, Loops, Exceptions, Data Structures, Lambda Functions"
   ]
  },
  {
   "cell_type": "markdown",
   "metadata": {},
   "source": [
    "## Imports\n",
    "Import any modules here:"
   ]
  },
  {
   "cell_type": "code",
   "execution_count": null,
   "metadata": {},
   "outputs": [],
   "source": []
  },
  {
   "cell_type": "markdown",
   "metadata": {},
   "source": [
    "## Task 1"
   ]
  },
  {
   "cell_type": "markdown",
   "metadata": {},
   "source": [
    "Get familiar with conditions."
   ]
  },
  {
   "cell_type": "markdown",
   "metadata": {},
   "source": [
    "**Question 1**"
   ]
  },
  {
   "cell_type": "code",
   "execution_count": null,
   "metadata": {},
   "outputs": [],
   "source": [
    "def <FUNCTION-NAME>():\n",
    "    \"\"\"\n",
    "        Look at the examples, identify the pattern(s), and come up with a solution:\n",
    "        \n",
    "        Input: a = 2, b = 4\n",
    "        Output: return 16\n",
    "        \n",
    "        Input: a = 5, b = 9\n",
    "        Output: return 95\n",
    "        \n",
    "        Input: a = 6, b = 3\n",
    "        Output: return 36\n",
    "        \n",
    "        Input a = 43, b = 344\n",
    "        Output: return 3483\n",
    "        \n",
    "        Input: a = 4, b = 4\n",
    "        Output: return 256\n",
    "        \n",
    "        Input: a = 2, b = 87\n",
    "        Output: return 872\n",
    "        \n",
    "        Do note that the code should work for any integer input.\n",
    "        \n",
    "        Parameters\n",
    "        ----------\n",
    "        a : integer\n",
    "            An integer\n",
    "        b : numeric\n",
    "            An integer\n",
    "            \n",
    "        Ideas\n",
    "        -----\n",
    "        If, Nested If\n",
    "    \"\"\"\n",
    "    "
   ]
  },
  {
   "cell_type": "code",
   "execution_count": null,
   "metadata": {},
   "outputs": [],
   "source": [
    "# Call your function here\n"
   ]
  },
  {
   "cell_type": "markdown",
   "metadata": {},
   "source": [
    "**Question 2**"
   ]
  },
  {
   "cell_type": "code",
   "execution_count": null,
   "metadata": {},
   "outputs": [],
   "source": [
    "def <FUNCTION-NAME>():\n",
    "    \"\"\"\n",
    "        Concatenate a string with 'hello' if it contains your name.\n",
    "        Else, if the second letter equals the last-but-second, return the reverse.\n",
    "        For all other cases, return 'Done'.\n",
    "        \n",
    "        Parameters\n",
    "        ----------\n",
    "        s : string\n",
    "            A string\n",
    "            \n",
    "        Ideas\n",
    "        -----\n",
    "        If, String Operations\n",
    "    \"\"\"\n",
    "    "
   ]
  },
  {
   "cell_type": "code",
   "execution_count": null,
   "metadata": {},
   "outputs": [],
   "source": [
    "# Call your function here\n"
   ]
  },
  {
   "cell_type": "markdown",
   "metadata": {},
   "source": [
    "## Task 2"
   ]
  },
  {
   "cell_type": "markdown",
   "metadata": {},
   "source": [
    "Print the pattern given in the docstring."
   ]
  },
  {
   "cell_type": "markdown",
   "metadata": {},
   "source": [
    "**Question 1**"
   ]
  },
  {
   "cell_type": "code",
   "execution_count": null,
   "metadata": {},
   "outputs": [],
   "source": [
    "def <FUNCTION-NAME>():\n",
    "    \"\"\" \n",
    "        Prints the following pattern for `n` rows:\n",
    "        \n",
    "        1\n",
    "        1 2\n",
    "        1 2 3\n",
    "        ...\n",
    "        1 2 3 ... n\n",
    "        \n",
    "        Parameters\n",
    "        ----------\n",
    "        n : integer\n",
    "            Number of lines\n",
    "        \n",
    "        Ideas\n",
    "        -----\n",
    "        Looping, Nested Loops\n",
    "    \"\"\"\n",
    "    "
   ]
  },
  {
   "cell_type": "code",
   "execution_count": null,
   "metadata": {},
   "outputs": [],
   "source": [
    "# Call your function here\n"
   ]
  },
  {
   "cell_type": "markdown",
   "metadata": {},
   "source": [
    "**Question 2**"
   ]
  },
  {
   "cell_type": "code",
   "execution_count": null,
   "metadata": {},
   "outputs": [],
   "source": [
    "def <FUNCTION-NAME>():\n",
    "    \"\"\" \n",
    "        Prints the following pattern forever (till interrupt):\n",
    "        \n",
    "        *\n",
    "        00\n",
    "        ***\n",
    "        0000\n",
    "        *****\n",
    "        0000\n",
    "        ***\n",
    "        00\n",
    "        *\n",
    "        \n",
    "        This is a vertical sinusoid.\n",
    "        \n",
    "        Parameters\n",
    "        ----------\n",
    "        n : integer\n",
    "            Number of lines\n",
    "        \n",
    "        Ideas\n",
    "        -----\n",
    "        Looping, Conditions\n",
    "    \"\"\"\n",
    "    "
   ]
  },
  {
   "cell_type": "code",
   "execution_count": null,
   "metadata": {
    "scrolled": true
   },
   "outputs": [],
   "source": [
    "# Call your function here\n"
   ]
  },
  {
   "cell_type": "markdown",
   "metadata": {},
   "source": [
    "**Question 3**"
   ]
  },
  {
   "cell_type": "code",
   "execution_count": null,
   "metadata": {},
   "outputs": [],
   "source": [
    "def <FUNCTION-NAME>():\n",
    "    \"\"\" \n",
    "        Prints the following pattern forever (till interrupt):\n",
    "        \n",
    "        **\n",
    "        ***\n",
    "        *****\n",
    "        *******\n",
    "        ********\n",
    "        *********\n",
    "        *********\n",
    "        ********\n",
    "        *******\n",
    "        *****\n",
    "        ***\n",
    "        **\n",
    "        **\n",
    "        ***\n",
    "        *****\n",
    "        *******\n",
    "        ********\n",
    "        *********\n",
    "        *********\n",
    "        ********\n",
    "        *******\n",
    "        *****\n",
    "        ***\n",
    "        **\n",
    "        \n",
    "        This is a vertical sinusoid.\n",
    "        \n",
    "        Parameters\n",
    "        ----------\n",
    "        n : integer\n",
    "            Number of lines\n",
    "        \n",
    "        Ideas\n",
    "        -----\n",
    "        Looping, math.sin\n",
    "    \"\"\"\n",
    "    "
   ]
  },
  {
   "cell_type": "code",
   "execution_count": null,
   "metadata": {},
   "outputs": [],
   "source": [
    "# Call your function here\n"
   ]
  },
  {
   "cell_type": "markdown",
   "metadata": {},
   "source": [
    "## Task 3"
   ]
  },
  {
   "cell_type": "markdown",
   "metadata": {},
   "source": [
    "Learn about data structures, exception handling and lambda functions."
   ]
  },
  {
   "cell_type": "markdown",
   "metadata": {},
   "source": [
    "**Question 1**"
   ]
  },
  {
   "cell_type": "code",
   "execution_count": 1,
   "metadata": {},
   "outputs": [],
   "source": [
    "dictionary = {'ant': 2, 'dog': 12, 'duck': 20, 'hen': 11, 'other': 99}"
   ]
  },
  {
   "cell_type": "code",
   "execution_count": null,
   "metadata": {},
   "outputs": [],
   "source": [
    "keys = ['ant', 'cat', 'duck', 'hen', 'lion', 'zebra']"
   ]
  },
  {
   "cell_type": "code",
   "execution_count": null,
   "metadata": {},
   "outputs": [],
   "source": [
    "def <FUNCTION-NAME>():\n",
    "    \"\"\"\n",
    "        For all elements in `keys`, print the value associated with them in `dictionary`.\n",
    "        Use exception handling to take care of a non-existent key, and print the value \n",
    "        associated with `other` instead.\n",
    "        \n",
    "        Ideas\n",
    "        -----\n",
    "        try, except\n",
    "    \"\"\"\n",
    "    "
   ]
  },
  {
   "cell_type": "code",
   "execution_count": null,
   "metadata": {},
   "outputs": [],
   "source": [
    "# Call your function here\n"
   ]
  },
  {
   "cell_type": "markdown",
   "metadata": {},
   "source": [
    "**Question 2**"
   ]
  },
  {
   "cell_type": "code",
   "execution_count": null,
   "metadata": {},
   "outputs": [],
   "source": [
    "data = [0.00, 0.12, 0.24, 0.36, 0.48, 0.52, 0.65, 0.50, 0.11, 0.09]"
   ]
  },
  {
   "cell_type": "code",
   "execution_count": null,
   "metadata": {},
   "outputs": [],
   "source": [
    "def <FUNCTION-NAME>():\n",
    "    \"\"\"\n",
    "        Round off values in `data` below the mean to 0, and those above the mean to 1\n",
    "        Do not use looping statements.\n",
    "        \n",
    "        Ideas\n",
    "        -----\n",
    "        lambda, map\n",
    "    \"\"\"\n",
    "    "
   ]
  },
  {
   "cell_type": "code",
   "execution_count": null,
   "metadata": {},
   "outputs": [],
   "source": [
    "# Call your function here\n"
   ]
  },
  {
   "cell_type": "markdown",
   "metadata": {},
   "source": [
    "**Question 3**"
   ]
  },
  {
   "cell_type": "code",
   "execution_count": null,
   "metadata": {},
   "outputs": [],
   "source": [
    "def <FUNCTION-NAME>():\n",
    "    \"\"\"\n",
    "        Return a list of all perfect squares less than `n`, using list comprehension.\n",
    "        \n",
    "        Parameters\n",
    "        ----------\n",
    "        n : integer\n",
    "            Limit value\n",
    "        \n",
    "        Ideas\n",
    "        -----\n",
    "        Looping, If, List Comprehension\n",
    "    \"\"\"\n",
    "    "
   ]
  },
  {
   "cell_type": "code",
   "execution_count": 3,
   "metadata": {},
   "outputs": [],
   "source": [
    "# Call your function name\n"
   ]
  },
  {
   "cell_type": "markdown",
   "metadata": {},
   "source": [
    "Once you're done, move on to Module 2. Nice work!"
   ]
  }
 ],
 "metadata": {
  "kernelspec": {
   "display_name": "Python 3",
   "language": "python",
   "name": "python3"
  },
  "language_info": {
   "codemirror_mode": {
    "name": "ipython",
    "version": 3
   },
   "file_extension": ".py",
   "mimetype": "text/x-python",
   "name": "python",
   "nbconvert_exporter": "python",
   "pygments_lexer": "ipython3",
   "version": "3.7.3"
  }
 },
 "nbformat": 4,
 "nbformat_minor": 2
}
