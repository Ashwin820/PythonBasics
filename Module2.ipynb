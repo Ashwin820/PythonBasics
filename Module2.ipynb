{
 "cells": [
  {
   "cell_type": "markdown",
   "metadata": {},
   "source": [
    "# Python Basics"
   ]
  },
  {
   "cell_type": "markdown",
   "metadata": {},
   "source": [
    "These assignments aim to get you acquainted with Python, which is an important requirement for all the research done at Solarillion Foundation. Apart from teaching you Python, these assignments also aim to make you a better programmer and cultivate better coding practices. \n",
    "\n",
    "Visit these links for more details: <br>\n",
    "PEP8 Practices: https://www.python.org/dev/peps/pep-0008/ <br>\n",
    "Check PEP8: http://pep8online.com <br>\n",
    "Python Reference: https://www.py4e.com/lessons <br>\n",
    "\n",
    "Do use Google efficiently, and refer to StackOverflow for clarifying any programming doubts. If you're still stuck, feel free to ask a TA to help you.\n",
    "\n",
    "Each task in the assignment comprises of at least two cells. There are function definitions wherein you will name the function(s), and write code to solve the problem at hand. You will call the function(s) in the last cell of each task, and check your output.\n",
    "\n",
    "We encourage you to play around and learn as much as possible, and be as creative as you can get. More than anything, have fun doing these assignments. Enjoy!"
   ]
  },
  {
   "cell_type": "markdown",
   "metadata": {},
   "source": [
    "# Important\n",
    "* **Only the imports and functions must be present when you upload this notebook to GitHub for verification.** \n",
    "* **Do not upload it until you want to get it verified. Do not change function names or add extra cells or code, or remove anything.**\n",
    "* **For your rough work and four showing your code to TAs, use a different notebook with the name Module2Playground.ipynb and copy only the final functions to this notebook for verification.**"
   ]
  },
  {
   "cell_type": "markdown",
   "metadata": {},
   "source": [
    "# Module 2\n",
    "Scope: NumPy, pandas, pickle, matplotlib, File operations"
   ]
  },
  {
   "cell_type": "markdown",
   "metadata": {},
   "source": [
    "## Imports - Always Execute First!\n",
    "Import any modules and turn on any magic here:"
   ]
  },
  {
   "cell_type": "code",
   "execution_count": 3,
   "metadata": {},
   "outputs": [],
   "source": [
    "import matplotlib as mpl\n",
    "import matplotlib.pyplot as plt\n",
    "import numpy as np\n",
    "import pandas as pd\n",
    "import pickle as pkl\n",
    "import random\n",
    "from IPython import get_ipython\n",
    "ipy = get_ipython()\n",
    "if ipy is not None:\n",
    "    ipy.run_line_magic(\"load_ext\", \"pycodestyle_magic\")\n",
    "    ipy.run_line_magic(\"pycodestyle_on\", \"\")\n",
    "    ipy.run_line_magic(\"matplotlib\", \"inline\")"
   ]
  },
  {
   "cell_type": "markdown",
   "metadata": {},
   "source": [
    "## Task 1"
   ]
  },
  {
   "cell_type": "markdown",
   "metadata": {},
   "source": [
    "Basics of NumPy, pandas, pickle and matplotlib."
   ]
  },
  {
   "cell_type": "markdown",
   "metadata": {},
   "source": [
    "**Question 1**"
   ]
  },
  {
   "cell_type": "code",
   "execution_count": 3,
   "metadata": {},
   "outputs": [
    {
     "data": {
      "text/plain": [
       "\"\\n    Read the pickle file 'Data/Stress.pkl' and transform the contents into a\\n    a pandas DataFrame of the following form:\\n    \\n            +------+------+------+-----+------+-------+\\n            | ACCx | ACCy | ACCz | ECG | RESP | LABEL |\\n            +------+------+------+-----+------+-------+\\n            |      |      |      |     |      |       |\\n            +------+------+------+-----+------+-------+\\n            |      |      |      |     |      |       |\\n            +------+------+------+-----+------+-------+\\n            |      |      |      |     |      |       |\\n            +------+------+------+-----+------+-------+\\n\\n            Shape: (700, 6)\\n\\n    Save this DataFrame as a CSV file.\\n\\n    Modules\\n    -------\\n    pickle, pandas\\n    \\n    Lookups\\n    -------\\n    NumPy and pandas basics (Check the Lookups folder)\\n    Try to complete the tasks in the Lookups, and play around with the notebooks.\\n\""
      ]
     },
     "execution_count": 3,
     "metadata": {},
     "output_type": "execute_result"
    },
    {
     "name": "stderr",
     "output_type": "stream",
     "text": [
      "4:1: W293 blank line contains whitespace\n",
      "22:1: W293 blank line contains whitespace\n",
      "26:80: E501 line too long (81 > 79 characters)\n",
      "27:4: W291 trailing whitespace\n"
     ]
    }
   ],
   "source": [
    "\"\"\"\n",
    "    Read the pickle file 'Data/Stress.pkl' and transform the contents into a\n",
    "    a pandas DataFrame of the following form:\n",
    "    \n",
    "            +------+------+------+-----+------+-------+\n",
    "            | ACCx | ACCy | ACCz | ECG | RESP | LABEL |\n",
    "            +------+------+------+-----+------+-------+\n",
    "            |      |      |      |     |      |       |\n",
    "            +------+------+------+-----+------+-------+\n",
    "            |      |      |      |     |      |       |\n",
    "            +------+------+------+-----+------+-------+\n",
    "            |      |      |      |     |      |       |\n",
    "            +------+------+------+-----+------+-------+\n",
    "\n",
    "            Shape: (700, 6)\n",
    "\n",
    "    Save this DataFrame as a CSV file.\n",
    "\n",
    "    Modules\n",
    "    -------\n",
    "    pickle, pandas\n",
    "    \n",
    "    Lookups\n",
    "    -------\n",
    "    NumPy and pandas basics (Check the Lookups folder)\n",
    "    Try to complete the tasks in the Lookups, and play around with the notebooks.\n",
    "\"\"\"        "
   ]
  },
  {
   "cell_type": "code",
   "execution_count": 4,
   "metadata": {},
   "outputs": [
    {
     "name": "stderr",
     "output_type": "stream",
     "text": [
      "4:28: E251 unexpected spaces around keyword / parameter equals\n",
      "5:36: E251 unexpected spaces around keyword / parameter equals\n",
      "5:56: E231 missing whitespace after ','\n",
      "5:62: E231 missing whitespace after ','\n",
      "5:71: E251 unexpected spaces around keyword / parameter equals\n",
      "5:79: E231 missing whitespace after ','\n",
      "5:80: E501 line too long (115 > 79 characters)\n",
      "5:86: E231 missing whitespace after ','\n",
      "5:93: E231 missing whitespace after ','\n",
      "5:99: E231 missing whitespace after ','\n",
      "5:107: E231 missing whitespace after ','\n",
      "6:21: E231 missing whitespace after ','\n",
      "13:1: W293 blank line contains whitespace\n",
      "14:80: E501 line too long (104 > 79 characters)\n"
     ]
    }
   ],
   "source": [
    "def pickle_to_csv(filename):\n",
    "    with open(filename, \"rb\") as f:\n",
    "        object = pkl.load(f)\n",
    "    df = pd.DataFrame(data= object)\n",
    "    df_stress = pd.DataFrame(index= [i for i in range(1,701)],columns= [\"ACCx\",\"ACCy\",\"ACCz\",\"ECG\",\"LABEL\",\"RESP\"])\n",
    "    for i in range(1,701):\n",
    "        df_stress[\"ACCx\"][i] = df.signal[0][i-1][0]\n",
    "        df_stress[\"ACCy\"][i] = df.signal[0][i-1][1]\n",
    "        df_stress[\"ACCz\"][i] = df.signal[0][i-1][2]\n",
    "        df_stress[\"ECG\"][i] = df.signal[1][i-1][0]\n",
    "        df_stress[\"LABEL\"][i] = df.signal[2][i-1][0]\n",
    "        df_stress[\"RESP\"][i] = df.signal[3][i-1][0]\n",
    "    \n",
    "    df_stress.to_csv(r\"C:/Users/Ashwinkumar/Desktop/Bright Academy/PythonBasics-master/Data/Stress.csv\")\n",
    "    return df_stress"
   ]
  },
  {
   "cell_type": "code",
   "execution_count": 5,
   "metadata": {},
   "outputs": [
    {
     "data": {
      "text/html": [
       "<div>\n",
       "<style scoped>\n",
       "    .dataframe tbody tr th:only-of-type {\n",
       "        vertical-align: middle;\n",
       "    }\n",
       "\n",
       "    .dataframe tbody tr th {\n",
       "        vertical-align: top;\n",
       "    }\n",
       "\n",
       "    .dataframe thead th {\n",
       "        text-align: right;\n",
       "    }\n",
       "</style>\n",
       "<table border=\"1\" class=\"dataframe\">\n",
       "  <thead>\n",
       "    <tr style=\"text-align: right;\">\n",
       "      <th></th>\n",
       "      <th>ACCx</th>\n",
       "      <th>ACCy</th>\n",
       "      <th>ACCz</th>\n",
       "      <th>ECG</th>\n",
       "      <th>LABEL</th>\n",
       "      <th>RESP</th>\n",
       "    </tr>\n",
       "  </thead>\n",
       "  <tbody>\n",
       "    <tr>\n",
       "      <th>1</th>\n",
       "      <td>0.9554</td>\n",
       "      <td>-0.222</td>\n",
       "      <td>-0.558</td>\n",
       "      <td>0.021423</td>\n",
       "      <td>0.0</td>\n",
       "      <td>-1.148987</td>\n",
       "    </tr>\n",
       "    <tr>\n",
       "      <th>2</th>\n",
       "      <td>0.9258</td>\n",
       "      <td>-0.2216</td>\n",
       "      <td>-0.5538</td>\n",
       "      <td>0.020325</td>\n",
       "      <td>0.0</td>\n",
       "      <td>-1.124573</td>\n",
       "    </tr>\n",
       "    <tr>\n",
       "      <th>3</th>\n",
       "      <td>0.9082</td>\n",
       "      <td>-0.2196</td>\n",
       "      <td>-0.5392</td>\n",
       "      <td>0.016525</td>\n",
       "      <td>0.0</td>\n",
       "      <td>-1.152039</td>\n",
       "    </tr>\n",
       "    <tr>\n",
       "      <th>4</th>\n",
       "      <td>0.8974</td>\n",
       "      <td>-0.2102</td>\n",
       "      <td>-0.5122</td>\n",
       "      <td>0.016708</td>\n",
       "      <td>0.0</td>\n",
       "      <td>-1.158142</td>\n",
       "    </tr>\n",
       "    <tr>\n",
       "      <th>5</th>\n",
       "      <td>0.8882</td>\n",
       "      <td>-0.2036</td>\n",
       "      <td>-0.4824</td>\n",
       "      <td>0.011673</td>\n",
       "      <td>0.0</td>\n",
       "      <td>-1.161194</td>\n",
       "    </tr>\n",
       "    <tr>\n",
       "      <th>...</th>\n",
       "      <td>...</td>\n",
       "      <td>...</td>\n",
       "      <td>...</td>\n",
       "      <td>...</td>\n",
       "      <td>...</td>\n",
       "      <td>...</td>\n",
       "    </tr>\n",
       "    <tr>\n",
       "      <th>696</th>\n",
       "      <td>0.9134</td>\n",
       "      <td>-0.14</td>\n",
       "      <td>0.1074</td>\n",
       "      <td>0.003479</td>\n",
       "      <td>7.0</td>\n",
       "      <td>2.2995</td>\n",
       "    </tr>\n",
       "    <tr>\n",
       "      <th>697</th>\n",
       "      <td>0.9092</td>\n",
       "      <td>-0.1394</td>\n",
       "      <td>0.0994</td>\n",
       "      <td>0.000778</td>\n",
       "      <td>7.0</td>\n",
       "      <td>2.305603</td>\n",
       "    </tr>\n",
       "    <tr>\n",
       "      <th>698</th>\n",
       "      <td>0.9084</td>\n",
       "      <td>-0.1414</td>\n",
       "      <td>0.0934</td>\n",
       "      <td>-0.001694</td>\n",
       "      <td>7.0</td>\n",
       "      <td>2.297974</td>\n",
       "    </tr>\n",
       "    <tr>\n",
       "      <th>699</th>\n",
       "      <td>0.9116</td>\n",
       "      <td>-0.1416</td>\n",
       "      <td>0.0958</td>\n",
       "      <td>-0.003799</td>\n",
       "      <td>7.0</td>\n",
       "      <td>2.354431</td>\n",
       "    </tr>\n",
       "    <tr>\n",
       "      <th>700</th>\n",
       "      <td>0.9156</td>\n",
       "      <td>-0.1396</td>\n",
       "      <td>0.1022</td>\n",
       "      <td>-0.006546</td>\n",
       "      <td>7.0</td>\n",
       "      <td>2.355957</td>\n",
       "    </tr>\n",
       "  </tbody>\n",
       "</table>\n",
       "<p>700 rows × 6 columns</p>\n",
       "</div>"
      ],
      "text/plain": [
       "       ACCx    ACCy    ACCz       ECG LABEL      RESP\n",
       "1    0.9554  -0.222  -0.558  0.021423   0.0 -1.148987\n",
       "2    0.9258 -0.2216 -0.5538  0.020325   0.0 -1.124573\n",
       "3    0.9082 -0.2196 -0.5392  0.016525   0.0 -1.152039\n",
       "4    0.8974 -0.2102 -0.5122  0.016708   0.0 -1.158142\n",
       "5    0.8882 -0.2036 -0.4824  0.011673   0.0 -1.161194\n",
       "..      ...     ...     ...       ...   ...       ...\n",
       "696  0.9134   -0.14  0.1074  0.003479   7.0    2.2995\n",
       "697  0.9092 -0.1394  0.0994  0.000778   7.0  2.305603\n",
       "698  0.9084 -0.1414  0.0934 -0.001694   7.0  2.297974\n",
       "699  0.9116 -0.1416  0.0958 -0.003799   7.0  2.354431\n",
       "700  0.9156 -0.1396  0.1022 -0.006546   7.0  2.355957\n",
       "\n",
       "[700 rows x 6 columns]"
      ]
     },
     "execution_count": 5,
     "metadata": {},
     "output_type": "execute_result"
    },
    {
     "name": "stderr",
     "output_type": "stream",
     "text": [
      "1:80: E501 line too long (96 > 79 characters)\n"
     ]
    }
   ],
   "source": [
    "pickle_to_csv(\"C:/Users/Ashwinkumar/Desktop/Bright Academy/PythonBasics-master/Data/Stress.pkl\")"
   ]
  },
  {
   "cell_type": "markdown",
   "metadata": {},
   "source": [
    "**Question 2**"
   ]
  },
  {
   "cell_type": "code",
   "execution_count": 6,
   "metadata": {},
   "outputs": [
    {
     "data": {
      "text/plain": [
       "'\\n    Find the number of occurrences of each unique value in `LABEL` (count of values).\\n    \\n    Add a column `BINARY` to the DataFrame which contains 1 if `LABEL` is 2,\\n    else 0.\\n    \\n    Find the mean, minimum, maximum and standard deviation of `RESP` for each value in `LABEL`.\\n'"
      ]
     },
     "execution_count": 6,
     "metadata": {},
     "output_type": "execute_result"
    },
    {
     "name": "stderr",
     "output_type": "stream",
     "text": [
      "2:80: E501 line too long (85 > 79 characters)\n",
      "3:1: W293 blank line contains whitespace\n",
      "6:1: W293 blank line contains whitespace\n",
      "7:80: E501 line too long (95 > 79 characters)\n"
     ]
    }
   ],
   "source": [
    "\"\"\"\n",
    "    Find the number of occurrences of each unique value in `LABEL` (count of values).\n",
    "    \n",
    "    Add a column `BINARY` to the DataFrame which contains 1 if `LABEL` is 2,\n",
    "    else 0.\n",
    "    \n",
    "    Find the mean, minimum, maximum and standard deviation of `RESP` for each value in `LABEL`.\n",
    "\"\"\"\n",
    "\"\"\"\n",
    "        Function 1: count_unique(dataframe)\n",
    "        Parameters: dataframe: Stress data DataFrame\n",
    "        Return: dict containing count of values in `LABEL`\n",
    "\"\"\"\n",
    "\"\"\"\n",
    "        Function 2: add_binary(dataframe)\n",
    "        Parameters: dataframe: Stress data DataFrame\n",
    "        Return: DataFrame (updated, containing `BINARY`)\n",
    "\"\"\"\n",
    "\"\"\"\n",
    "        Function 3: compute_resp(dataframe)\n",
    "        Parameters: dataframe: Stress data DataFrame\n",
    "        Return: dict containing mean, min, max and standard deviation of `RESP`\n",
    "                for each value in `LABEL`\n",
    "        Dictionary Format: {label_value: [mean, min, max, std_dev]}\n",
    "        Example: {1: [1, 0, 2, 1], 2: [0, -1, 1, 1], ... }\n",
    "\"\"\"\n"
   ]
  },
  {
   "cell_type": "code",
   "execution_count": 6,
   "metadata": {},
   "outputs": [
    {
     "name": "stderr",
     "output_type": "stream",
     "text": [
      "8:21: W291 trailing whitespace\n",
      "9:13: W291 trailing whitespace\n"
     ]
    }
   ],
   "source": [
    "def count_unique(dataframe):\n",
    "    D = {}\n",
    "    for i in dataframe[\"LABEL\"]:\n",
    "        count = 0\n",
    "        for j in dataframe[\"LABEL\"]:\n",
    "            if j == i:\n",
    "                count += 1\n",
    "        D[i] = count \n",
    "    return D            "
   ]
  },
  {
   "cell_type": "code",
   "execution_count": 7,
   "metadata": {},
   "outputs": [
    {
     "data": {
      "text/plain": [
       "{0.0: 100, 1.0: 100, 2.0: 100, 6.0: 100, 4.0: 100, 3.0: 100, 7.0: 100}"
      ]
     },
     "execution_count": 7,
     "metadata": {},
     "output_type": "execute_result"
    },
    {
     "name": "stderr",
     "output_type": "stream",
     "text": [
      "1:80: E501 line too long (121 > 79 characters)\n",
      "1:119: E251 unexpected spaces around keyword / parameter equals\n"
     ]
    }
   ],
   "source": [
    "dataframe = pd.read_csv(r\"C:/Users/Ashwinkumar/Desktop/Bright Academy/PythonBasics-master/Data/Stress.csv\", index_col= 0)\n",
    "count_unique(dataframe)"
   ]
  },
  {
   "cell_type": "code",
   "execution_count": 8,
   "metadata": {},
   "outputs": [
    {
     "name": "stderr",
     "output_type": "stream",
     "text": [
      "2:40: E251 unexpected spaces around keyword / parameter equals\n",
      "2:42: E251 unexpected spaces around keyword / parameter equals\n",
      "2:80: E501 line too long (107 > 79 characters)\n",
      "2:101: E231 missing whitespace after ','\n",
      "3:21: W291 trailing whitespace\n"
     ]
    }
   ],
   "source": [
    "def add_binary(dataframe):\n",
    "    dataframe = dataframe.assign(BINARY = [1 if dataframe[\"LABEL\"][i] == 2.0 else 0 for i in range(1,701)])\n",
    "    return dataframe    "
   ]
  },
  {
   "cell_type": "code",
   "execution_count": 9,
   "metadata": {},
   "outputs": [
    {
     "data": {
      "text/html": [
       "<div>\n",
       "<style scoped>\n",
       "    .dataframe tbody tr th:only-of-type {\n",
       "        vertical-align: middle;\n",
       "    }\n",
       "\n",
       "    .dataframe tbody tr th {\n",
       "        vertical-align: top;\n",
       "    }\n",
       "\n",
       "    .dataframe thead th {\n",
       "        text-align: right;\n",
       "    }\n",
       "</style>\n",
       "<table border=\"1\" class=\"dataframe\">\n",
       "  <thead>\n",
       "    <tr style=\"text-align: right;\">\n",
       "      <th></th>\n",
       "      <th>ACCx</th>\n",
       "      <th>ACCy</th>\n",
       "      <th>ACCz</th>\n",
       "      <th>ECG</th>\n",
       "      <th>LABEL</th>\n",
       "      <th>RESP</th>\n",
       "      <th>BINARY</th>\n",
       "    </tr>\n",
       "  </thead>\n",
       "  <tbody>\n",
       "    <tr>\n",
       "      <th>1</th>\n",
       "      <td>0.9554</td>\n",
       "      <td>-0.2220</td>\n",
       "      <td>-0.5580</td>\n",
       "      <td>0.021423</td>\n",
       "      <td>0.0</td>\n",
       "      <td>-1.148987</td>\n",
       "      <td>0</td>\n",
       "    </tr>\n",
       "    <tr>\n",
       "      <th>2</th>\n",
       "      <td>0.9258</td>\n",
       "      <td>-0.2216</td>\n",
       "      <td>-0.5538</td>\n",
       "      <td>0.020325</td>\n",
       "      <td>0.0</td>\n",
       "      <td>-1.124573</td>\n",
       "      <td>0</td>\n",
       "    </tr>\n",
       "    <tr>\n",
       "      <th>3</th>\n",
       "      <td>0.9082</td>\n",
       "      <td>-0.2196</td>\n",
       "      <td>-0.5392</td>\n",
       "      <td>0.016525</td>\n",
       "      <td>0.0</td>\n",
       "      <td>-1.152039</td>\n",
       "      <td>0</td>\n",
       "    </tr>\n",
       "    <tr>\n",
       "      <th>4</th>\n",
       "      <td>0.8974</td>\n",
       "      <td>-0.2102</td>\n",
       "      <td>-0.5122</td>\n",
       "      <td>0.016708</td>\n",
       "      <td>0.0</td>\n",
       "      <td>-1.158142</td>\n",
       "      <td>0</td>\n",
       "    </tr>\n",
       "    <tr>\n",
       "      <th>5</th>\n",
       "      <td>0.8882</td>\n",
       "      <td>-0.2036</td>\n",
       "      <td>-0.4824</td>\n",
       "      <td>0.011673</td>\n",
       "      <td>0.0</td>\n",
       "      <td>-1.161194</td>\n",
       "      <td>0</td>\n",
       "    </tr>\n",
       "    <tr>\n",
       "      <th>...</th>\n",
       "      <td>...</td>\n",
       "      <td>...</td>\n",
       "      <td>...</td>\n",
       "      <td>...</td>\n",
       "      <td>...</td>\n",
       "      <td>...</td>\n",
       "      <td>...</td>\n",
       "    </tr>\n",
       "    <tr>\n",
       "      <th>696</th>\n",
       "      <td>0.9134</td>\n",
       "      <td>-0.1400</td>\n",
       "      <td>0.1074</td>\n",
       "      <td>0.003479</td>\n",
       "      <td>7.0</td>\n",
       "      <td>2.299500</td>\n",
       "      <td>0</td>\n",
       "    </tr>\n",
       "    <tr>\n",
       "      <th>697</th>\n",
       "      <td>0.9092</td>\n",
       "      <td>-0.1394</td>\n",
       "      <td>0.0994</td>\n",
       "      <td>0.000778</td>\n",
       "      <td>7.0</td>\n",
       "      <td>2.305603</td>\n",
       "      <td>0</td>\n",
       "    </tr>\n",
       "    <tr>\n",
       "      <th>698</th>\n",
       "      <td>0.9084</td>\n",
       "      <td>-0.1414</td>\n",
       "      <td>0.0934</td>\n",
       "      <td>-0.001694</td>\n",
       "      <td>7.0</td>\n",
       "      <td>2.297974</td>\n",
       "      <td>0</td>\n",
       "    </tr>\n",
       "    <tr>\n",
       "      <th>699</th>\n",
       "      <td>0.9116</td>\n",
       "      <td>-0.1416</td>\n",
       "      <td>0.0958</td>\n",
       "      <td>-0.003799</td>\n",
       "      <td>7.0</td>\n",
       "      <td>2.354431</td>\n",
       "      <td>0</td>\n",
       "    </tr>\n",
       "    <tr>\n",
       "      <th>700</th>\n",
       "      <td>0.9156</td>\n",
       "      <td>-0.1396</td>\n",
       "      <td>0.1022</td>\n",
       "      <td>-0.006546</td>\n",
       "      <td>7.0</td>\n",
       "      <td>2.355957</td>\n",
       "      <td>0</td>\n",
       "    </tr>\n",
       "  </tbody>\n",
       "</table>\n",
       "<p>700 rows × 7 columns</p>\n",
       "</div>"
      ],
      "text/plain": [
       "       ACCx    ACCy    ACCz       ECG  LABEL      RESP  BINARY\n",
       "1    0.9554 -0.2220 -0.5580  0.021423    0.0 -1.148987       0\n",
       "2    0.9258 -0.2216 -0.5538  0.020325    0.0 -1.124573       0\n",
       "3    0.9082 -0.2196 -0.5392  0.016525    0.0 -1.152039       0\n",
       "4    0.8974 -0.2102 -0.5122  0.016708    0.0 -1.158142       0\n",
       "5    0.8882 -0.2036 -0.4824  0.011673    0.0 -1.161194       0\n",
       "..      ...     ...     ...       ...    ...       ...     ...\n",
       "696  0.9134 -0.1400  0.1074  0.003479    7.0  2.299500       0\n",
       "697  0.9092 -0.1394  0.0994  0.000778    7.0  2.305603       0\n",
       "698  0.9084 -0.1414  0.0934 -0.001694    7.0  2.297974       0\n",
       "699  0.9116 -0.1416  0.0958 -0.003799    7.0  2.354431       0\n",
       "700  0.9156 -0.1396  0.1022 -0.006546    7.0  2.355957       0\n",
       "\n",
       "[700 rows x 7 columns]"
      ]
     },
     "execution_count": 9,
     "metadata": {},
     "output_type": "execute_result"
    }
   ],
   "source": [
    "add_binary(dataframe)"
   ]
  },
  {
   "cell_type": "code",
   "execution_count": 10,
   "metadata": {},
   "outputs": [
    {
     "name": "stderr",
     "output_type": "stream",
     "text": [
      "5:35: W291 trailing whitespace\n",
      "6:16: E231 missing whitespace after ','\n",
      "9:80: E501 line too long (94 > 79 characters)\n"
     ]
    }
   ],
   "source": [
    "def compute_resp(dataframe):\n",
    "    unique_label = []\n",
    "    for i in dataframe[\"LABEL\"]:\n",
    "        if i not in unique_label:\n",
    "            unique_label.append(i)   \n",
    "    D = dict((i,[dataframe[\"RESP\"].loc[dataframe[\"LABEL\"] == i].mean(),\n",
    "                 dataframe[\"RESP\"].loc[dataframe[\"LABEL\"] == i].min(),\n",
    "                 dataframe[\"RESP\"].loc[dataframe[\"LABEL\"] == i].max(),\n",
    "                 dataframe[\"RESP\"].loc[dataframe[\"LABEL\"] == i].std()]) for i in unique_label)\n",
    "    return D"
   ]
  },
  {
   "cell_type": "code",
   "execution_count": 13,
   "metadata": {
    "scrolled": true
   },
   "outputs": [
    {
     "data": {
      "text/plain": [
       "{0.0: [-1.19342041015625,\n",
       "  -1.39617919921875,\n",
       "  -1.12457275390625,\n",
       "  0.04224704631603914],\n",
       " 1.0: [0.7134246826171875,\n",
       "  -0.23345947265625,\n",
       "  1.19171142578125,\n",
       "  0.2955339157237469],\n",
       " 2.0: [-1.0665130615234375,\n",
       "  -1.63116455078125,\n",
       "  -0.86517333984375,\n",
       "  0.12823314954549292],\n",
       " 6.0: [0.084747314453125,\n",
       "  -0.4180908203125,\n",
       "  0.16632080078125,\n",
       "  0.08561486266706556],\n",
       " 4.0: [-2.1305999755859375,\n",
       "  -2.54364013671875,\n",
       "  -2.00042724609375,\n",
       "  0.08807708808175198],\n",
       " 3.0: [-0.5306396484375,\n",
       "  -1.27105712890625,\n",
       "  -0.09918212890625,\n",
       "  0.24397469864245047],\n",
       " 7.0: [1.1905059814453125,\n",
       "  -0.00457763671875,\n",
       "  2.35595703125,\n",
       "  0.6931962371698447]}"
      ]
     },
     "execution_count": 13,
     "metadata": {},
     "output_type": "execute_result"
    }
   ],
   "source": [
    "compute_resp(dataframe)"
   ]
  },
  {
   "cell_type": "markdown",
   "metadata": {},
   "source": [
    "**Question 3**"
   ]
  },
  {
   "cell_type": "code",
   "execution_count": 12,
   "metadata": {},
   "outputs": [
    {
     "data": {
      "text/plain": [
       "'\\n        Function 1: plot_raw(dataframe)\\n        Parameters: dataframe: Stress data DataFrame\\n        Output: Plot\\n'"
      ]
     },
     "execution_count": 12,
     "metadata": {},
     "output_type": "execute_result"
    }
   ],
   "source": [
    "\"\"\"\n",
    "    Plot `RESP` using matplotlib (pyplot):\n",
    "    - First, just plot the raw values.\n",
    "    - Next, try using different colours for data points based on `BINARY`.\n",
    "    - Experiment and come up with a useful plot.\n",
    "\"\"\"\n",
    "\"\"\"\n",
    "        Function 1: plot_raw(dataframe)\n",
    "        Parameters: dataframe: Stress data DataFrame\n",
    "        Output: Plot\n",
    "\"\"\"\n",
    "\"\"\"\n",
    "        Function 2: plot_coloured(dataframe)\n",
    "        Parameters: dataframe: Stress data DataFrame\n",
    "        Output: Plot\n",
    "\"\"\"    \n",
    "    "
   ]
  },
  {
   "cell_type": "code",
   "execution_count": 11,
   "metadata": {},
   "outputs": [],
   "source": [
    "def plot_raw(dataframe):\n",
    "    plt.plot(dataframe['RESP'])\n",
    "    plt.show()"
   ]
  },
  {
   "cell_type": "code",
   "execution_count": 12,
   "metadata": {},
   "outputs": [
    {
     "data": {
      "image/png": "[encoded data removed]",
      "text/plain": [
       "<Figure size 432x288 with 1 Axes>"
      ]
     },
     "metadata": {
      "needs_background": "light"
     },
     "output_type": "display_data"
    }
   ],
   "source": [
    "plot_raw(dataframe)"
   ]
  },
  {
   "cell_type": "code",
   "execution_count": 16,
   "metadata": {},
   "outputs": [
    {
     "name": "stderr",
     "output_type": "stream",
     "text": [
      "8:39: W291 trailing whitespace\n"
     ]
    }
   ],
   "source": [
    "def plot_coloured(dataframe):\n",
    "    x = []\n",
    "    y = []\n",
    "    z = []\n",
    "    w = []\n",
    "    v = []\n",
    "    for i in range(1, 201):\n",
    "        x.append(dataframe[\"RESP\"][i])    \n",
    "    for i in range(201, 301):\n",
    "        y.append(dataframe[\"RESP\"][i])\n",
    "    for i in range(301, 701):\n",
    "        z.append(dataframe[\"RESP\"][i])\n",
    "    for i in range(201, 301):\n",
    "        w.append(i)\n",
    "    for i in range(301, 701):\n",
    "        v.append(i)\n",
    "    plt.plot(x, color=\"red\")\n",
    "    plt.plot(w, y, color=\"blue\")\n",
    "    plt.plot(v, z, color=\"red\")\n",
    "    plt.show()"
   ]
  },
  {
   "cell_type": "code",
   "execution_count": 18,
   "metadata": {},
   "outputs": [
    {
     "data": {
      "image/png": "[encoded data removed]",
      "text/plain": [
       "<Figure size 432x288 with 1 Axes>"
      ]
     },
     "metadata": {
      "needs_background": "light"
     },
     "output_type": "display_data"
    }
   ],
   "source": [
    "plot_coloured(dataframe)"
   ]
  },
  {
   "cell_type": "markdown",
   "metadata": {},
   "source": [
    "## Task 2"
   ]
  },
  {
   "cell_type": "markdown",
   "metadata": {},
   "source": [
    "Some simple file operations."
   ]
  },
  {
   "cell_type": "code",
   "execution_count": null,
   "metadata": {},
   "outputs": [],
   "source": [
    "\"\"\"\n",
    "    Generate a text file containing 50 integer elements between 1 and 20 (use `random`). \n",
    "    Identify the unique numbers and the number of their occurrences, and write this into \n",
    "    a new text file.\n",
    "    \n",
    "    Example\n",
    "    -------\n",
    "    \n",
    "    Generated File\n",
    "    --------------\n",
    "    1 2 3 4 3 2 1 ...\n",
    "    \n",
    "    Count File\n",
    "    ----------\n",
    "    1 - 2\n",
    "    2 - 2\n",
    "    3 - 2\n",
    "    4 - 1\n",
    "    ...\n",
    "\"\"\""
   ]
  },
  {
   "cell_type": "code",
   "execution_count": 16,
   "metadata": {},
   "outputs": [
    {
     "name": "stderr",
     "output_type": "stream",
     "text": [
      "2:1: E302 expected 2 blank lines, found 0\n"
     ]
    }
   ],
   "source": [
    "import random\n",
    "def random_numbers():\n",
    "    with open(\"Numbers.txt\", \"w+\") as file:\n",
    "        for i in range(0, 50):\n",
    "            line = str(random.randint(0, 20)) + \" \"\n",
    "            file.write(line)\n",
    "    with open(\"Count.txt\", \"w+\") as file_1:\n",
    "        with open(\"Numbers.txt\", \"r+\") as f:\n",
    "            for line in f:\n",
    "                digit = line.split()\n",
    "                new_digit = [int(i) for i in digit]\n",
    "                unique = []\n",
    "                for j in new_digit:\n",
    "                    if j not in unique:\n",
    "                        unique.append(j)\n",
    "                unique.sort()\n",
    "                for k in range(0, len(unique)):\n",
    "                    count = 0\n",
    "                    unique_num = unique[k]\n",
    "                    for a in range(0, len(new_digit)):\n",
    "                        if unique_num == new_digit[a]:\n",
    "                            count += 1\n",
    "                    file_1.write(str(unique_num) + \"-\" + str(count) + \"\\n\")"
   ]
  },
  {
   "cell_type": "code",
   "execution_count": 17,
   "metadata": {},
   "outputs": [],
   "source": [
    "random_numbers()"
   ]
  },
  {
   "cell_type": "markdown",
   "metadata": {},
   "source": [
    "Once you're done, move on to Module 3. Great job!"
   ]
  }
 ],
 "metadata": {
  "kernelspec": {
   "display_name": "Python 3 (ipykernel)",
   "language": "python",
   "name": "python3"
  },
  "language_info": {
   "codemirror_mode": {
    "name": "ipython",
    "version": 3
   },
   "file_extension": ".py",
   "mimetype": "text/x-python",
   "name": "python",
   "nbconvert_exporter": "python",
   "pygments_lexer": "ipython3",
   "version": "3.9.12"
  }
 },
 "nbformat": 4,
 "nbformat_minor": 4
}
